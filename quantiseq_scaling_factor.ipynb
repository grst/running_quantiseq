{
 "cells": [
  {
   "cell_type": "code",
   "execution_count": 1,
   "metadata": {},
   "outputs": [
    {
     "name": "stdout",
     "output_type": "stream",
     "text": [
      "f5_samples.tsv\t\t\tquanTIseqTest_input.txt\r\n",
      "quanTIseq_cell_fractions.txt\trunning_quantiseq.ipynb\r\n",
      "quanTIseq_gene_tpm.txt\t\tSample1_1.fq\r\n",
      "quanTIseq_pipeline.sh\t\tSample1_2.fq\r\n",
      "quantiseq_scaling_factor.ipynb\tSample2.fq\r\n",
      "quanTIseqTest_gene_tpm.txt\tTest_quanTIseq_Linux.sh\r\n"
     ]
    }
   ],
   "source": [
    "!ls"
   ]
  },
  {
   "cell_type": "code",
   "execution_count": 3,
   "metadata": {},
   "outputs": [
    {
     "name": "stdout",
     "output_type": "stream",
     "text": [
      "GENE\tSample1\tSample2\r\n",
      "UBE2Q2P2\t0\t0\r\n",
      "SSX9\t0\t0\r\n",
      "CXorf67\t0\t0\r\n",
      "EFCAB8\t0\t0\r\n",
      "SPATA31B1P\t0\t0\r\n",
      "SDR16C6P\t0\t0\r\n",
      "GTPBP6\t64.147\t99.0223\r\n",
      "EFCAB12\t0\t0\r\n",
      "A1BG\t20.62371\t9.32803\r\n"
     ]
    }
   ],
   "source": [
    "!head quanTIseqTest_gene_tpm.txt"
   ]
  },
  {
   "cell_type": "code",
   "execution_count": 4,
   "metadata": {},
   "outputs": [],
   "source": [
    "import pandas as pd"
   ]
  },
  {
   "cell_type": "code",
   "execution_count": 7,
   "metadata": {},
   "outputs": [],
   "source": [
    "tpm = pd.read_csv(\"./quanTIseqTest_gene_tpm.txt\", sep=\"\\t\", index_col=0)"
   ]
  },
  {
   "cell_type": "code",
   "execution_count": 10,
   "metadata": {},
   "outputs": [],
   "source": [
    "tpm2 = pd.DataFrame().assign(sample0_1=tpm.Sample1/10, \n",
    "                             sample=tpm.Sample1,\n",
    "                             sample10=10*tpm.Sample1,\n",
    "                             sample50=50*tpm.Sample1,\n",
    "                             sample500=500*tpm.Sample1)"
   ]
  },
  {
   "cell_type": "code",
   "execution_count": 12,
   "metadata": {},
   "outputs": [],
   "source": [
    "tpm2.to_csv(\"./scaling_factor_tpm.tsv\", sep=\"\\t\")"
   ]
  },
  {
   "cell_type": "code",
   "execution_count": 14,
   "metadata": {},
   "outputs": [
    {
     "name": "stdout",
     "output_type": "stream",
     "text": [
      "\n",
      "Running quanTIseq deconvolution module\n",
      "\n",
      "Gene expression normalization and re-annotation (arrays: FALSE)\n",
      "\n",
      "Removing 17 noisy genes\n",
      "\n",
      "Signature genes found in data set: 153/153 (100%)\n",
      "\n",
      "Mixture deconvolution (method: lsei)\n",
      "\n",
      "Deconvolution results saved to file!\n"
     ]
    }
   ],
   "source": [
    "!bash quanTIseq_pipeline.sh --inputfile=\"scaling_factor_tpm.tsv\"  --pipelinestart=\"decon\""
   ]
  },
  {
   "cell_type": "code",
   "execution_count": 18,
   "metadata": {},
   "outputs": [
    {
     "data": {
      "text/html": [
       "<div>\n",
       "<style scoped>\n",
       "    .dataframe tbody tr th:only-of-type {\n",
       "        vertical-align: middle;\n",
       "    }\n",
       "\n",
       "    .dataframe tbody tr th {\n",
       "        vertical-align: top;\n",
       "    }\n",
       "\n",
       "    .dataframe thead th {\n",
       "        text-align: right;\n",
       "    }\n",
       "</style>\n",
       "<table border=\"1\" class=\"dataframe\">\n",
       "  <thead>\n",
       "    <tr style=\"text-align: right;\">\n",
       "      <th></th>\n",
       "      <th>B.cells</th>\n",
       "      <th>Macrophages.M1</th>\n",
       "      <th>Macrophages.M2</th>\n",
       "      <th>Monocytes</th>\n",
       "      <th>Neutrophils</th>\n",
       "      <th>NK.cells</th>\n",
       "      <th>T.cells.CD4</th>\n",
       "      <th>T.cells.CD8</th>\n",
       "      <th>Tregs</th>\n",
       "      <th>Dendritic.cells</th>\n",
       "      <th>Other</th>\n",
       "    </tr>\n",
       "    <tr>\n",
       "      <th>Sample</th>\n",
       "      <th></th>\n",
       "      <th></th>\n",
       "      <th></th>\n",
       "      <th></th>\n",
       "      <th></th>\n",
       "      <th></th>\n",
       "      <th></th>\n",
       "      <th></th>\n",
       "      <th></th>\n",
       "      <th></th>\n",
       "      <th></th>\n",
       "    </tr>\n",
       "  </thead>\n",
       "  <tbody>\n",
       "    <tr>\n",
       "      <th>sample0_1</th>\n",
       "      <td>0.091121</td>\n",
       "      <td>0</td>\n",
       "      <td>0.02034</td>\n",
       "      <td>0.373879</td>\n",
       "      <td>0.012357</td>\n",
       "      <td>0.139771</td>\n",
       "      <td>0.116984</td>\n",
       "      <td>0.126069</td>\n",
       "      <td>0.005994</td>\n",
       "      <td>0.113484</td>\n",
       "      <td>1.113550e-16</td>\n",
       "    </tr>\n",
       "    <tr>\n",
       "      <th>sample</th>\n",
       "      <td>0.091121</td>\n",
       "      <td>0</td>\n",
       "      <td>0.02034</td>\n",
       "      <td>0.373879</td>\n",
       "      <td>0.012357</td>\n",
       "      <td>0.139771</td>\n",
       "      <td>0.116984</td>\n",
       "      <td>0.126069</td>\n",
       "      <td>0.005994</td>\n",
       "      <td>0.113484</td>\n",
       "      <td>1.113550e-16</td>\n",
       "    </tr>\n",
       "    <tr>\n",
       "      <th>sample10</th>\n",
       "      <td>0.091121</td>\n",
       "      <td>0</td>\n",
       "      <td>0.02034</td>\n",
       "      <td>0.373879</td>\n",
       "      <td>0.012357</td>\n",
       "      <td>0.139771</td>\n",
       "      <td>0.116984</td>\n",
       "      <td>0.126069</td>\n",
       "      <td>0.005994</td>\n",
       "      <td>0.113484</td>\n",
       "      <td>0.000000e+00</td>\n",
       "    </tr>\n",
       "    <tr>\n",
       "      <th>sample50</th>\n",
       "      <td>0.091121</td>\n",
       "      <td>0</td>\n",
       "      <td>0.02034</td>\n",
       "      <td>0.373879</td>\n",
       "      <td>0.012357</td>\n",
       "      <td>0.139771</td>\n",
       "      <td>0.116984</td>\n",
       "      <td>0.126069</td>\n",
       "      <td>0.005994</td>\n",
       "      <td>0.113484</td>\n",
       "      <td>1.113550e-16</td>\n",
       "    </tr>\n",
       "    <tr>\n",
       "      <th>sample500</th>\n",
       "      <td>0.091121</td>\n",
       "      <td>0</td>\n",
       "      <td>0.02034</td>\n",
       "      <td>0.373879</td>\n",
       "      <td>0.012357</td>\n",
       "      <td>0.139771</td>\n",
       "      <td>0.116984</td>\n",
       "      <td>0.126069</td>\n",
       "      <td>0.005994</td>\n",
       "      <td>0.113484</td>\n",
       "      <td>0.000000e+00</td>\n",
       "    </tr>\n",
       "  </tbody>\n",
       "</table>\n",
       "</div>"
      ],
      "text/plain": [
       "            B.cells  Macrophages.M1  Macrophages.M2  Monocytes  Neutrophils  \\\n",
       "Sample                                                                        \n",
       "sample0_1  0.091121               0         0.02034   0.373879     0.012357   \n",
       "sample     0.091121               0         0.02034   0.373879     0.012357   \n",
       "sample10   0.091121               0         0.02034   0.373879     0.012357   \n",
       "sample50   0.091121               0         0.02034   0.373879     0.012357   \n",
       "sample500  0.091121               0         0.02034   0.373879     0.012357   \n",
       "\n",
       "           NK.cells  T.cells.CD4  T.cells.CD8     Tregs  Dendritic.cells  \\\n",
       "Sample                                                                     \n",
       "sample0_1  0.139771     0.116984     0.126069  0.005994         0.113484   \n",
       "sample     0.139771     0.116984     0.126069  0.005994         0.113484   \n",
       "sample10   0.139771     0.116984     0.126069  0.005994         0.113484   \n",
       "sample50   0.139771     0.116984     0.126069  0.005994         0.113484   \n",
       "sample500  0.139771     0.116984     0.126069  0.005994         0.113484   \n",
       "\n",
       "                  Other  \n",
       "Sample                   \n",
       "sample0_1  1.113550e-16  \n",
       "sample     1.113550e-16  \n",
       "sample10   0.000000e+00  \n",
       "sample50   1.113550e-16  \n",
       "sample500  0.000000e+00  "
      ]
     },
     "execution_count": 18,
     "metadata": {},
     "output_type": "execute_result"
    }
   ],
   "source": [
    "pd.read_csv(\"quanTIseq_cell_fractions.txt\", sep=\"\\t\", index_col=0)"
   ]
  },
  {
   "cell_type": "code",
   "execution_count": null,
   "metadata": {},
   "outputs": [],
   "source": []
  }
 ],
 "metadata": {
  "kernelspec": {
   "display_name": "Python 3",
   "language": "python",
   "name": "python3"
  },
  "language_info": {
   "codemirror_mode": {
    "name": "ipython",
    "version": 3
   },
   "file_extension": ".py",
   "mimetype": "text/x-python",
   "name": "python",
   "nbconvert_exporter": "python",
   "pygments_lexer": "ipython3",
   "version": "3.6.5"
  }
 },
 "nbformat": 4,
 "nbformat_minor": 2
}
