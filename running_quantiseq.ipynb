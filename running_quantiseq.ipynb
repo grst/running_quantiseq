{
 "cells": [
  {
   "cell_type": "markdown",
   "metadata": {},
   "source": [
    "## Installation"
   ]
  },
  {
   "cell_type": "code",
   "execution_count": 1,
   "metadata": {},
   "outputs": [
    {
     "name": "stdout",
     "output_type": "stream",
     "text": [
      "Using default tag: latest\n",
      "Trying to pull repository docker.io/icbi/quantiseq ... \n",
      "latest: Pulling from docker.io/icbi/quantiseq\n",
      "\u001b[0BDigest: sha256:0e2316be966483177ae9c83dc1dce160dbd20633dd3b1035dda3968109cfcf74\n"
     ]
    }
   ],
   "source": [
    "!docker pull icbi/quantiseq"
   ]
  },
  {
   "cell_type": "code",
   "execution_count": 2,
   "metadata": {},
   "outputs": [
    {
     "name": "stdout",
     "output_type": "stream",
     "text": [
      "quanTIseq_pipeline.sh\t    running_quantiseq.ipynb  Sample2.fq\r\n",
      "quanTIseqTest_gene_tpm.txt  Sample1_1.fq\t     timer_input.tsv\r\n",
      "quanTIseqTest_input.txt     Sample1_2.fq\r\n"
     ]
    }
   ],
   "source": [
    "!ls"
   ]
  },
  {
   "cell_type": "code",
   "execution_count": 3,
   "metadata": {},
   "outputs": [
    {
     "name": "stdout",
     "output_type": "stream",
     "text": [
      "Sample1\tSample1_1.fq\tSample1_2.fq\r\n",
      "Sample2\tSample2.fq\tNone\r\n"
     ]
    }
   ],
   "source": [
    "!head quanTIseqTest_input.txt"
   ]
  },
  {
   "cell_type": "markdown",
   "metadata": {},
   "source": [
    "## default pipeline"
   ]
  },
  {
   "cell_type": "code",
   "execution_count": 5,
   "metadata": {},
   "outputs": [
    {
     "name": "stdout",
     "output_type": "stream",
     "text": [
      "ERROR: please specify input files as described in quanTIseq documentation. To inspect this image call: docker run -it --entrypoint=/bin/bash icbi/quantiseq\r\n"
     ]
    }
   ],
   "source": [
    "!bash quanTIseq_pipeline.sh --inputfile=\"quanTIseqTest_input.txt\""
   ]
  },
  {
   "cell_type": "markdown",
   "metadata": {},
   "source": [
    "## with inputstart=decon"
   ]
  },
  {
   "cell_type": "code",
   "execution_count": 7,
   "metadata": {},
   "outputs": [
    {
     "name": "stdout",
     "output_type": "stream",
     "text": [
      "ERROR: please specify input files as described in quanTIseq documentation. To inspect this image call: docker run -it --entrypoint=/bin/bash icbi/quantiseq\r\n"
     ]
    }
   ],
   "source": [
    "!bash quanTIseq_pipeline.sh --inputfile=\"quanTIseqTest_gene_tpm.txt\"  --pipelinestart=\"decon\""
   ]
  },
  {
   "cell_type": "code",
   "execution_count": null,
   "metadata": {
    "collapsed": true
   },
   "outputs": [],
   "source": []
  }
 ],
 "metadata": {
  "kernelspec": {
   "display_name": "Python 3",
   "language": "python",
   "name": "python3"
  },
  "language_info": {
   "codemirror_mode": {
    "name": "ipython",
    "version": 3
   },
   "file_extension": ".py",
   "mimetype": "text/x-python",
   "name": "python",
   "nbconvert_exporter": "python",
   "pygments_lexer": "ipython3",
   "version": "3.6.3"
  }
 },
 "nbformat": 4,
 "nbformat_minor": 2
}
